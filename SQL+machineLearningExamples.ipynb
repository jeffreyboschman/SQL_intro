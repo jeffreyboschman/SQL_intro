{
  "nbformat": 4,
  "nbformat_minor": 0,
  "metadata": {
    "colab": {
      "name": "SQL+machineLearningExamples.ipynb",
      "provenance": [],
      "collapsed_sections": [],
      "authorship_tag": "ABX9TyM4dhD7S9CJaLXo/9TCMH9y",
      "include_colab_link": true
    },
    "kernelspec": {
      "name": "python3",
      "display_name": "Python 3"
    },
    "language_info": {
      "name": "python"
    }
  },
  "cells": [
    {
      "cell_type": "markdown",
      "metadata": {
        "id": "view-in-github",
        "colab_type": "text"
      },
      "source": [
        "<a href=\"https://colab.research.google.com/github/jeffreyboschman/heartAttackStats/blob/main/SQL%2BmachineLearningExamples.ipynb\" target=\"_parent\"><img src=\"https://colab.research.google.com/assets/colab-badge.svg\" alt=\"Open In Colab\"/></a>"
      ]
    },
    {
      "cell_type": "markdown",
      "metadata": {
        "id": "dWIJyGeP6AwL"
      },
      "source": [
        "# Setting up database (MySQL)"
      ]
    },
    {
      "cell_type": "markdown",
      "metadata": {
        "id": "7IEC-oZk6RjX"
      },
      "source": [
        "This was my first time using MySQL, so it took me a little while to figure out. Here are the steps I took:\n",
        "1. Download and install MySQL Community Server v8.0.25 for macOS (from https://downloads.mysql.com/archives/community/). From here, I could see MySQL.prefPane in my System Preferences and establish a connection to `localhost`. \n",
        " - In order to run MySQL from command line, I also had to append `/usr/local/mysql/bin` to the `$PATH` variable in `~/.bashrc`. But with the GUI of MySQL Workbench (see next step), I won't need the command line much. \n",
        "2. Download and install MySQL Workbench v8.0.22 for macOS (I had to downgrade the version twice because of various bugs) from the archives (https://downloads.mysql.com/archives/workbench/). \n",
        "3. Next, because I knew that I wouldn't be able to connect to `localhost` from GoogleColab, I had to setup a database on a remote server. \n",
        "4. The data that I wanted to put into a database is from Kaggle. I downloaded them as csv files\n",
        "5. To convert the csv to database, i used this: https://www.databasestar.com/mysql-workbench-import-csv/\n"
      ]
    },
    {
      "cell_type": "markdown",
      "metadata": {
        "id": "9kYi9ia3T4LK"
      },
      "source": [
        "# Setting up database (SQLLite)"
      ]
    },
    {
      "cell_type": "markdown",
      "metadata": {
        "id": "gchc3UBIT9Qe"
      },
      "source": [
        "1. The first step is to make sure SQLite installed. You can check the version with `sqlite3 --version` \n",
        "  - It should come bundled with Python, but if not you can do `brew install sqlite3` from the CLI\n",
        "2. The data that I want to put into a database is from Kaggle. I downloaded them as csv files.\n",
        "3. Next we want to convert the .csv files into databases. (you can see the SQLite command line commands here https://sqlite.org/cli.html)"
      ]
    },
    {
      "cell_type": "markdown",
      "metadata": {
        "id": "O0ffq3i46E86"
      },
      "source": [
        "# Accessing database (MySQL Python connector)"
      ]
    },
    {
      "cell_type": "code",
      "metadata": {
        "id": "rqxkEL0hPlH6"
      },
      "source": [
        "import sqlalchemy\n",
        "HOSTNAME = 'ENTER_HOSTNAME'\n",
        "USER = 'ENTER_USERNAME'\n",
        "PASSWORD = 'ENTER_PASSWORD'\n",
        "DATABASE = 'ENTER_DATABASE_NAME'\n",
        " \n",
        "connection_string = f'mysql+pymysql://{MYSQL_USER}:{MYSQL_PASSWORD}@{MYSQL_HOSTNAME}/{MYSQL_DATABASE}'\n",
        " \n",
        "engine = sqlalchemy.create_engine(connection_string)\n",
        "\n",
        "query = f\"SELECT * FROM {DATABASE}.{TABLE}\"\n",
        " \n",
        "import pandas as pd\n",
        "df = pd.read_sql_query(query, engine)"
      ],
      "execution_count": null,
      "outputs": []
    },
    {
      "cell_type": "code",
      "metadata": {
        "colab": {
          "base_uri": "https://localhost:8080/"
        },
        "id": "MVIQAhQy2xA9",
        "outputId": "5b82d069-ebc6-4335-ee25-27731dcdc129"
      },
      "source": [
        "import sqlite3\n",
        "\n",
        "conn = sqlite3.connect('test.db')\n",
        "print(\"Opened database successfully\");\n",
        "\n",
        "conn.execute('''\n",
        "CREATE TABLE IF NOT EXISTS team_data(team text, \n",
        "                      country text, \n",
        "                      season integer, \n",
        "                      total_goals integer);''')\n",
        "\n",
        "conn.commit()\n",
        "\n",
        "print(\"Table created successfully\");\n",
        "\n",
        "conn.close()"
      ],
      "execution_count": null,
      "outputs": [
        {
          "output_type": "stream",
          "text": [
            "Opened database successfully\n",
            "Table created successfully\n"
          ],
          "name": "stdout"
        }
      ]
    },
    {
      "cell_type": "markdown",
      "metadata": {
        "id": "dn2zAACr9M15"
      },
      "source": [
        "https://learnsql.com/blog/free-online-datasets-to-practice-sql/\n",
        "\n",
        "https://www.kaggle.com/rashikrahmanpritom/heart-attack-analysis-prediction-dataset"
      ]
    },
    {
      "cell_type": "code",
      "metadata": {
        "id": "0s2kby-424nV",
        "colab": {
          "base_uri": "https://localhost:8080/"
        },
        "outputId": "d397d218-dab2-4da5-cce4-0aa7a30c1e2a"
      },
      "source": [
        "!rm -rf heartAttackStats\n",
        "!git clone https://github.com/jeffreyboschman/heartAttackStats.git"
      ],
      "execution_count": null,
      "outputs": [
        {
          "output_type": "stream",
          "text": [
            "Cloning into 'heartAttackStats'...\n",
            "remote: Enumerating objects: 11, done.\u001b[K\n",
            "remote: Counting objects: 100% (11/11), done.\u001b[K\n",
            "remote: Compressing objects: 100% (9/9), done.\u001b[K\n",
            "Unpacking objects: 100% (11/11), done.\n",
            "remote: Total 11 (delta 2), reused 8 (delta 1), pack-reused 0\u001b[K\n"
          ],
          "name": "stdout"
        }
      ]
    },
    {
      "cell_type": "code",
      "metadata": {
        "colab": {
          "base_uri": "https://localhost:8080/"
        },
        "id": "IVV2wyJCGt_1",
        "outputId": "dc93370d-b38d-4e64-bcc3-d5592f85d8fa"
      },
      "source": [
        "import pandas as pd\n",
        "\n",
        "data = pd.read_csv('/content/heartAttackStats/data/heart.csv')   \n",
        "heart_df = pd.DataFrame(data)\n",
        "\n",
        "print(heart_df)"
      ],
      "execution_count": null,
      "outputs": [
        {
          "output_type": "stream",
          "text": [
            "     age  sex  cp  trtbps  chol  fbs  ...  exng  oldpeak  slp  caa  thall  output\n",
            "0     63    1   3     145   233    1  ...     0      2.3    0    0      1       1\n",
            "1     37    1   2     130   250    0  ...     0      3.5    0    0      2       1\n",
            "2     41    0   1     130   204    0  ...     0      1.4    2    0      2       1\n",
            "3     56    1   1     120   236    0  ...     0      0.8    2    0      2       1\n",
            "4     57    0   0     120   354    0  ...     1      0.6    2    0      2       1\n",
            "..   ...  ...  ..     ...   ...  ...  ...   ...      ...  ...  ...    ...     ...\n",
            "298   57    0   0     140   241    0  ...     1      0.2    1    0      3       0\n",
            "299   45    1   3     110   264    0  ...     0      1.2    1    0      3       0\n",
            "300   68    1   0     144   193    1  ...     0      3.4    1    2      3       0\n",
            "301   57    1   0     130   131    0  ...     1      1.2    1    1      3       0\n",
            "302   57    0   1     130   236    0  ...     0      0.0    1    1      2       0\n",
            "\n",
            "[303 rows x 14 columns]\n"
          ],
          "name": "stdout"
        }
      ]
    },
    {
      "cell_type": "code",
      "metadata": {
        "id": "AbWQl3OJHT_r"
      },
      "source": [
        "\n",
        "conn = sqlite3.connect('heart_db.db')\n",
        "print(\"Opened database successfully\");\n",
        "\n",
        "conn.execute('''\n",
        "CREATE TABLE IF NOT EXISTS team_data(team text, \n",
        "                      country text, \n",
        "                      season integer, \n",
        "                      total_goals integer);''')\n",
        "\n",
        "conn.commit()\n",
        "\n",
        "print(\"Table created successfully\");\n",
        "\n",
        "conn.close()"
      ],
      "execution_count": null,
      "outputs": []
    },
    {
      "cell_type": "code",
      "metadata": {
        "id": "syXfCrOcLbE8"
      },
      "source": [
        "with open ('test.csv', 'r') as f:\n",
        "    reader = csv.reader(f)\n",
        "    columns = next(reader) \n",
        "    query = 'insert into MyTable({0}) values ({1})'\n",
        "    query = query.format(','.join(columns), ','.join('?' * len(columns)))\n",
        "    cursor = connection.cursor()\n",
        "    for data in reader:\n",
        "        cursor.execute(query, data)\n",
        "    cursor.commit()"
      ],
      "execution_count": null,
      "outputs": []
    }
  ]
}