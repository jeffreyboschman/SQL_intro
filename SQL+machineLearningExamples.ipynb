{
  "nbformat": 4,
  "nbformat_minor": 0,
  "metadata": {
    "colab": {
      "name": "SQL+machineLearningExamples.ipynb",
      "provenance": [],
      "collapsed_sections": [
        "9kYi9ia3T4LK",
        "O0ffq3i46E86",
        "GMgeV5WnDyHk"
      ],
      "authorship_tag": "ABX9TyNF5zPzJdWzfqCzYauzYIVW",
      "include_colab_link": true
    },
    "kernelspec": {
      "name": "python3",
      "display_name": "Python 3"
    },
    "language_info": {
      "name": "python"
    }
  },
  "cells": [
    {
      "cell_type": "markdown",
      "metadata": {
        "id": "view-in-github",
        "colab_type": "text"
      },
      "source": [
        "<a href=\"https://colab.research.google.com/github/jeffreyboschman/heartAttackStats/blob/main/SQL%2BmachineLearningExamples.ipynb\" target=\"_parent\"><img src=\"https://colab.research.google.com/assets/colab-badge.svg\" alt=\"Open In Colab\"/></a>"
      ]
    },
    {
      "cell_type": "markdown",
      "metadata": {
        "id": "9kYi9ia3T4LK"
      },
      "source": [
        "# Setting up database (SQLite)"
      ]
    },
    {
      "cell_type": "markdown",
      "metadata": {
        "id": "gchc3UBIT9Qe"
      },
      "source": [
        "This was my first time using SQL, so I wanted to practice and understand what is going on. I decided to use SQLite from the MacOS terminal command line.\n",
        "1. The first step is to make sure SQLite installed. You can check the version with `sqlite3 --version` \n",
        "  - It should come bundled with Python, but if not you can do `brew install sqlite3`\n",
        "2. The data that I want to put into a database is a heart attack analysis dataset from Kaggle (https://www.kaggle.com/rashikrahmanpritom/heart-attack-analysis-prediction-dataset). I downloaded them as csv files.(note: other good datasets https://archive.ics.uci.edu/ml/datasets/Breast+Cancer+Wisconsin+%28Diagnostic%29)\n",
        "3. Next we want to convert the .csv files into databases. \n",
        "\n",
        "  - 3a. Make the SQLite database\n",
        "    - `$ sqlite3 stats.db` -> from the command line, creates a new database called `stats.db` and opens SQLite. In SQLite, all new commands will have the prompt `sqlite>` (see https://sqlite.org/cli.html)\n",
        "    \n",
        "    - Some useful SQLite dot-commands (not general SQL, only for SQLite): https://www.tutorialspoint.com/sqlite/sqlite_commands.htm\n",
        "      - `.databases` -> to see what databases you have created\n",
        "      - `.tables` -> to see what tables you have created\n",
        "      - `.show` -> show the current values of the various settings\n",
        "      - `.header on` -> turns header setting on\n",
        "      - `.mode column` -> sets output mode to column\n",
        "      - `.timer on` -> to see how long operations takes\n",
        "      - `.quit` or `.exit` -> close SQLite\n",
        "\n",
        "  - 3b. Create a new, empty table with the correct column names and datatypes\n",
        "  \n",
        "    - ```sqlite3\n",
        "    CREATE TABLE heart(\n",
        "    ...> age INTEGER,\n",
        "    ...> sex INTEGER,\n",
        "    ...> cp INTEGER,\n",
        "    ...> trtbps INTEGER,\n",
        "    ...> chol INTEGER,\n",
        "    ...> fbs INTEGER,\n",
        "    ...> restecg INTEGER,\n",
        "    ...> thalachh INTEGER,\n",
        "    ...> exng INTEGER,\n",
        "    ...> oldpeak FLOAT,\n",
        "    ...> slp INTEGER,\n",
        "    ...> caa INTEGER,\n",
        "    ...> thall INTEGER,\n",
        "    ...> output INTEGER\n",
        "    ...> );\n",
        "    ``` \n",
        "\n",
        "  - 3c. Import the csv file `heart.csv` into the existing table called `heart`\n",
        "    - `.mode csv` -> change to csv mode\n",
        "    - `.import heart.csv heart`\n",
        "    - `.schema heart` -> verify the structure of the table `heart` by showing the matching CREATE statement\n",
        "    - `SELECT * FROM heart LIMIT 5;` -> verify the table contains the data from the csv by showing the first 5 rows. But oh wait, you may notice that the first line of the csv is imported as well as an entry.\n",
        "    - `DELETE FROM heart LIMIT 1;` -> delete the first row\n",
        "    - `SELECT * FROM heart LIMIT 5;` -> now you can see that the first row is just values\n",
        "\n",
        "  - 3d. Do the same for `o2Saturation.csv`\n",
        "    - ```sqlite3\n",
        "    CREATE TABLE o2Sat(\n",
        "    ...> o2Sa FLOAT \n",
        "    ...> );\n",
        "    ```\n",
        "    - `.mode csv`\n",
        "    - `.import o2Saturation.csv o2Sat`\n",
        "    - `SELECT * FROM o2Sat LIMIT 5;` -> this csv didn't have column names in the first row, so it should be good already\n",
        "  \n",
        "  - 3e. Close SQLite\n",
        "    - `.quit` or `.exit`\n",
        "\n",
        "4. Finally, we want to make sure we can access the `stats.db` database file later using this Google Colab / Jupyter Notebook. I'm just going to add it to a git respository. \n"
      ]
    },
    {
      "cell_type": "markdown",
      "metadata": {
        "id": "O0ffq3i46E86"
      },
      "source": [
        "# Accessing database (sqlite3 library in Python) and making Pandas dataframes"
      ]
    },
    {
      "cell_type": "markdown",
      "metadata": {
        "id": "NgYmo6oMF3L9"
      },
      "source": [
        "Import some libraries (`sqlite3` is part of the standard library) and get the `stats.db` file from the last the step, which I put on git."
      ]
    },
    {
      "cell_type": "code",
      "metadata": {
        "id": "0s2kby-424nV",
        "colab": {
          "base_uri": "https://localhost:8080/"
        },
        "outputId": "269c81d4-240e-437b-def7-6241b1edf238"
      },
      "source": [
        "import sqlite3\n",
        "import pandas as pd\n",
        "\n",
        "!rm -rf heartAttackStats\n",
        "!git clone https://github.com/jeffreyboschman/heartAttackStats.git"
      ],
      "execution_count": 1,
      "outputs": [
        {
          "output_type": "stream",
          "name": "stdout",
          "text": [
            "Cloning into 'heartAttackStats'...\n",
            "remote: Enumerating objects: 59, done.\u001b[K\n",
            "remote: Counting objects: 100% (59/59), done.\u001b[K\n",
            "remote: Compressing objects: 100% (53/53), done.\u001b[K\n",
            "remote: Total 59 (delta 28), reused 21 (delta 5), pack-reused 0\n",
            "Unpacking objects: 100% (59/59), done.\n"
          ]
        }
      ]
    },
    {
      "cell_type": "markdown",
      "metadata": {
        "id": "PzBpHJKRH4pK"
      },
      "source": [
        "Establish a connection to the stats.db file, and (optional) confirm the names of the tables inside it."
      ]
    },
    {
      "cell_type": "code",
      "metadata": {
        "colab": {
          "base_uri": "https://localhost:8080/"
        },
        "id": "MVIQAhQy2xA9",
        "outputId": "9d89f173-63af-4e09-9463-6d72c531b2be"
      },
      "source": [
        "conn = sqlite3.connect('heartAttackStats/data/stats.db')\n",
        "print(\"Opened database successfully\");\n",
        "\n",
        "cur = conn.cursor()  #creates a \"cursor\" that we can use to execuse SQL commands\n",
        "cur.execute(\"SELECT name FROM sqlite_master WHERE type='table';\")\n",
        "print(cur.fetchall())\n",
        "conn.close() #it is good practice to close the connection (even though my next step will need it, it is in a different code block)"
      ],
      "execution_count": 2,
      "outputs": [
        {
          "output_type": "stream",
          "name": "stdout",
          "text": [
            "Opened database successfully\n",
            "[('heart',), ('o2Sat',)]\n"
          ]
        }
      ]
    },
    {
      "cell_type": "markdown",
      "metadata": {
        "id": "XnPR9ZW-JGIn"
      },
      "source": [
        "Directly create a Pandas dataframe from the SQL `stats.db` table named `heart`"
      ]
    },
    {
      "cell_type": "code",
      "metadata": {
        "colab": {
          "base_uri": "https://localhost:8080/",
          "height": 419
        },
        "id": "UNi3oq-fIhfW",
        "outputId": "73dbf814-8d26-4be9-9668-0acb643a6f6a"
      },
      "source": [
        "conn = sqlite3.connect('heartAttackStats/data/stats.db')\n",
        "heart_df = pd.read_sql_query(\"SELECT * FROM heart\", conn)\n",
        "conn.close()\n",
        "\n",
        "heart_df"
      ],
      "execution_count": 3,
      "outputs": [
        {
          "output_type": "execute_result",
          "data": {
            "text/html": [
              "<div>\n",
              "<style scoped>\n",
              "    .dataframe tbody tr th:only-of-type {\n",
              "        vertical-align: middle;\n",
              "    }\n",
              "\n",
              "    .dataframe tbody tr th {\n",
              "        vertical-align: top;\n",
              "    }\n",
              "\n",
              "    .dataframe thead th {\n",
              "        text-align: right;\n",
              "    }\n",
              "</style>\n",
              "<table border=\"1\" class=\"dataframe\">\n",
              "  <thead>\n",
              "    <tr style=\"text-align: right;\">\n",
              "      <th></th>\n",
              "      <th>age</th>\n",
              "      <th>sex</th>\n",
              "      <th>cp</th>\n",
              "      <th>trtbps</th>\n",
              "      <th>chol</th>\n",
              "      <th>fbs</th>\n",
              "      <th>restecg</th>\n",
              "      <th>thalachh</th>\n",
              "      <th>exng</th>\n",
              "      <th>oldpeak</th>\n",
              "      <th>slp</th>\n",
              "      <th>caa</th>\n",
              "      <th>thall</th>\n",
              "      <th>output</th>\n",
              "    </tr>\n",
              "  </thead>\n",
              "  <tbody>\n",
              "    <tr>\n",
              "      <th>0</th>\n",
              "      <td>63</td>\n",
              "      <td>1</td>\n",
              "      <td>3</td>\n",
              "      <td>145</td>\n",
              "      <td>233</td>\n",
              "      <td>1</td>\n",
              "      <td>0</td>\n",
              "      <td>150</td>\n",
              "      <td>0</td>\n",
              "      <td>2.3</td>\n",
              "      <td>0</td>\n",
              "      <td>0</td>\n",
              "      <td>1</td>\n",
              "      <td>1</td>\n",
              "    </tr>\n",
              "    <tr>\n",
              "      <th>1</th>\n",
              "      <td>37</td>\n",
              "      <td>1</td>\n",
              "      <td>2</td>\n",
              "      <td>130</td>\n",
              "      <td>250</td>\n",
              "      <td>0</td>\n",
              "      <td>1</td>\n",
              "      <td>187</td>\n",
              "      <td>0</td>\n",
              "      <td>3.5</td>\n",
              "      <td>0</td>\n",
              "      <td>0</td>\n",
              "      <td>2</td>\n",
              "      <td>1</td>\n",
              "    </tr>\n",
              "    <tr>\n",
              "      <th>2</th>\n",
              "      <td>41</td>\n",
              "      <td>0</td>\n",
              "      <td>1</td>\n",
              "      <td>130</td>\n",
              "      <td>204</td>\n",
              "      <td>0</td>\n",
              "      <td>0</td>\n",
              "      <td>172</td>\n",
              "      <td>0</td>\n",
              "      <td>1.4</td>\n",
              "      <td>2</td>\n",
              "      <td>0</td>\n",
              "      <td>2</td>\n",
              "      <td>1</td>\n",
              "    </tr>\n",
              "    <tr>\n",
              "      <th>3</th>\n",
              "      <td>56</td>\n",
              "      <td>1</td>\n",
              "      <td>1</td>\n",
              "      <td>120</td>\n",
              "      <td>236</td>\n",
              "      <td>0</td>\n",
              "      <td>1</td>\n",
              "      <td>178</td>\n",
              "      <td>0</td>\n",
              "      <td>0.8</td>\n",
              "      <td>2</td>\n",
              "      <td>0</td>\n",
              "      <td>2</td>\n",
              "      <td>1</td>\n",
              "    </tr>\n",
              "    <tr>\n",
              "      <th>4</th>\n",
              "      <td>57</td>\n",
              "      <td>0</td>\n",
              "      <td>0</td>\n",
              "      <td>120</td>\n",
              "      <td>354</td>\n",
              "      <td>0</td>\n",
              "      <td>1</td>\n",
              "      <td>163</td>\n",
              "      <td>1</td>\n",
              "      <td>0.6</td>\n",
              "      <td>2</td>\n",
              "      <td>0</td>\n",
              "      <td>2</td>\n",
              "      <td>1</td>\n",
              "    </tr>\n",
              "    <tr>\n",
              "      <th>...</th>\n",
              "      <td>...</td>\n",
              "      <td>...</td>\n",
              "      <td>...</td>\n",
              "      <td>...</td>\n",
              "      <td>...</td>\n",
              "      <td>...</td>\n",
              "      <td>...</td>\n",
              "      <td>...</td>\n",
              "      <td>...</td>\n",
              "      <td>...</td>\n",
              "      <td>...</td>\n",
              "      <td>...</td>\n",
              "      <td>...</td>\n",
              "      <td>...</td>\n",
              "    </tr>\n",
              "    <tr>\n",
              "      <th>298</th>\n",
              "      <td>57</td>\n",
              "      <td>0</td>\n",
              "      <td>0</td>\n",
              "      <td>140</td>\n",
              "      <td>241</td>\n",
              "      <td>0</td>\n",
              "      <td>1</td>\n",
              "      <td>123</td>\n",
              "      <td>1</td>\n",
              "      <td>0.2</td>\n",
              "      <td>1</td>\n",
              "      <td>0</td>\n",
              "      <td>3</td>\n",
              "      <td>0</td>\n",
              "    </tr>\n",
              "    <tr>\n",
              "      <th>299</th>\n",
              "      <td>45</td>\n",
              "      <td>1</td>\n",
              "      <td>3</td>\n",
              "      <td>110</td>\n",
              "      <td>264</td>\n",
              "      <td>0</td>\n",
              "      <td>1</td>\n",
              "      <td>132</td>\n",
              "      <td>0</td>\n",
              "      <td>1.2</td>\n",
              "      <td>1</td>\n",
              "      <td>0</td>\n",
              "      <td>3</td>\n",
              "      <td>0</td>\n",
              "    </tr>\n",
              "    <tr>\n",
              "      <th>300</th>\n",
              "      <td>68</td>\n",
              "      <td>1</td>\n",
              "      <td>0</td>\n",
              "      <td>144</td>\n",
              "      <td>193</td>\n",
              "      <td>1</td>\n",
              "      <td>1</td>\n",
              "      <td>141</td>\n",
              "      <td>0</td>\n",
              "      <td>3.4</td>\n",
              "      <td>1</td>\n",
              "      <td>2</td>\n",
              "      <td>3</td>\n",
              "      <td>0</td>\n",
              "    </tr>\n",
              "    <tr>\n",
              "      <th>301</th>\n",
              "      <td>57</td>\n",
              "      <td>1</td>\n",
              "      <td>0</td>\n",
              "      <td>130</td>\n",
              "      <td>131</td>\n",
              "      <td>0</td>\n",
              "      <td>1</td>\n",
              "      <td>115</td>\n",
              "      <td>1</td>\n",
              "      <td>1.2</td>\n",
              "      <td>1</td>\n",
              "      <td>1</td>\n",
              "      <td>3</td>\n",
              "      <td>0</td>\n",
              "    </tr>\n",
              "    <tr>\n",
              "      <th>302</th>\n",
              "      <td>57</td>\n",
              "      <td>0</td>\n",
              "      <td>1</td>\n",
              "      <td>130</td>\n",
              "      <td>236</td>\n",
              "      <td>0</td>\n",
              "      <td>0</td>\n",
              "      <td>174</td>\n",
              "      <td>0</td>\n",
              "      <td>0.0</td>\n",
              "      <td>1</td>\n",
              "      <td>1</td>\n",
              "      <td>2</td>\n",
              "      <td>0</td>\n",
              "    </tr>\n",
              "  </tbody>\n",
              "</table>\n",
              "<p>303 rows × 14 columns</p>\n",
              "</div>"
            ],
            "text/plain": [
              "     age  sex  cp  trtbps  chol  fbs  ...  exng  oldpeak  slp  caa  thall  output\n",
              "0     63    1   3     145   233    1  ...     0      2.3    0    0      1       1\n",
              "1     37    1   2     130   250    0  ...     0      3.5    0    0      2       1\n",
              "2     41    0   1     130   204    0  ...     0      1.4    2    0      2       1\n",
              "3     56    1   1     120   236    0  ...     0      0.8    2    0      2       1\n",
              "4     57    0   0     120   354    0  ...     1      0.6    2    0      2       1\n",
              "..   ...  ...  ..     ...   ...  ...  ...   ...      ...  ...  ...    ...     ...\n",
              "298   57    0   0     140   241    0  ...     1      0.2    1    0      3       0\n",
              "299   45    1   3     110   264    0  ...     0      1.2    1    0      3       0\n",
              "300   68    1   0     144   193    1  ...     0      3.4    1    2      3       0\n",
              "301   57    1   0     130   131    0  ...     1      1.2    1    1      3       0\n",
              "302   57    0   1     130   236    0  ...     0      0.0    1    1      2       0\n",
              "\n",
              "[303 rows x 14 columns]"
            ]
          },
          "metadata": {},
          "execution_count": 3
        }
      ]
    },
    {
      "cell_type": "markdown",
      "metadata": {
        "id": "KF6L1iuUOXgF"
      },
      "source": [
        "Also creat a dataframe of the o2 Saturation data"
      ]
    },
    {
      "cell_type": "code",
      "metadata": {
        "colab": {
          "base_uri": "https://localhost:8080/",
          "height": 419
        },
        "id": "JvTEEwKMOGuy",
        "outputId": "e6178d7e-0159-46c5-e36a-f9253142d623"
      },
      "source": [
        "conn = sqlite3.connect('heartAttackStats/data/stats.db')\n",
        "o2_df = pd.read_sql_query(\"SELECT * FROM o2Sat\", conn)\n",
        "conn.close()\n",
        "\n",
        "o2_df"
      ],
      "execution_count": 4,
      "outputs": [
        {
          "output_type": "execute_result",
          "data": {
            "text/html": [
              "<div>\n",
              "<style scoped>\n",
              "    .dataframe tbody tr th:only-of-type {\n",
              "        vertical-align: middle;\n",
              "    }\n",
              "\n",
              "    .dataframe tbody tr th {\n",
              "        vertical-align: top;\n",
              "    }\n",
              "\n",
              "    .dataframe thead th {\n",
              "        text-align: right;\n",
              "    }\n",
              "</style>\n",
              "<table border=\"1\" class=\"dataframe\">\n",
              "  <thead>\n",
              "    <tr style=\"text-align: right;\">\n",
              "      <th></th>\n",
              "      <th>o2Sa</th>\n",
              "    </tr>\n",
              "  </thead>\n",
              "  <tbody>\n",
              "    <tr>\n",
              "      <th>0</th>\n",
              "      <td>98.6</td>\n",
              "    </tr>\n",
              "    <tr>\n",
              "      <th>1</th>\n",
              "      <td>98.6</td>\n",
              "    </tr>\n",
              "    <tr>\n",
              "      <th>2</th>\n",
              "      <td>98.6</td>\n",
              "    </tr>\n",
              "    <tr>\n",
              "      <th>3</th>\n",
              "      <td>98.6</td>\n",
              "    </tr>\n",
              "    <tr>\n",
              "      <th>4</th>\n",
              "      <td>98.1</td>\n",
              "    </tr>\n",
              "    <tr>\n",
              "      <th>...</th>\n",
              "      <td>...</td>\n",
              "    </tr>\n",
              "    <tr>\n",
              "      <th>3581</th>\n",
              "      <td>98.6</td>\n",
              "    </tr>\n",
              "    <tr>\n",
              "      <th>3582</th>\n",
              "      <td>98.6</td>\n",
              "    </tr>\n",
              "    <tr>\n",
              "      <th>3583</th>\n",
              "      <td>98.6</td>\n",
              "    </tr>\n",
              "    <tr>\n",
              "      <th>3584</th>\n",
              "      <td>98.6</td>\n",
              "    </tr>\n",
              "    <tr>\n",
              "      <th>3585</th>\n",
              "      <td>98.6</td>\n",
              "    </tr>\n",
              "  </tbody>\n",
              "</table>\n",
              "<p>3586 rows × 1 columns</p>\n",
              "</div>"
            ],
            "text/plain": [
              "      o2Sa\n",
              "0     98.6\n",
              "1     98.6\n",
              "2     98.6\n",
              "3     98.6\n",
              "4     98.1\n",
              "...    ...\n",
              "3581  98.6\n",
              "3582  98.6\n",
              "3583  98.6\n",
              "3584  98.6\n",
              "3585  98.6\n",
              "\n",
              "[3586 rows x 1 columns]"
            ]
          },
          "metadata": {},
          "execution_count": 4
        }
      ]
    },
    {
      "cell_type": "markdown",
      "metadata": {
        "id": "GMgeV5WnDyHk"
      },
      "source": [
        "## Other method: Creating Pandas dataframes directly from csv files"
      ]
    },
    {
      "cell_type": "markdown",
      "metadata": {
        "id": "ERHvePU0D-lg"
      },
      "source": [
        "Ya, it would have been much more straightfoward to have just created the Pandas dataframes directly from the csv files.  But, like I said, I wanted to practice SQL (and I'm already pretty familiar with Pandas)"
      ]
    },
    {
      "cell_type": "code",
      "metadata": {
        "colab": {
          "base_uri": "https://localhost:8080/",
          "height": 419
        },
        "id": "IVV2wyJCGt_1",
        "outputId": "d52bec26-a90d-4239-cda6-b978f0a03480"
      },
      "source": [
        "heart_csv = pd.read_csv('/content/heartAttackStats/data/heart.csv')   \n",
        "heart_df2 = pd.DataFrame(heart_csv)\n",
        "\n",
        "heart_df2"
      ],
      "execution_count": 5,
      "outputs": [
        {
          "output_type": "execute_result",
          "data": {
            "text/html": [
              "<div>\n",
              "<style scoped>\n",
              "    .dataframe tbody tr th:only-of-type {\n",
              "        vertical-align: middle;\n",
              "    }\n",
              "\n",
              "    .dataframe tbody tr th {\n",
              "        vertical-align: top;\n",
              "    }\n",
              "\n",
              "    .dataframe thead th {\n",
              "        text-align: right;\n",
              "    }\n",
              "</style>\n",
              "<table border=\"1\" class=\"dataframe\">\n",
              "  <thead>\n",
              "    <tr style=\"text-align: right;\">\n",
              "      <th></th>\n",
              "      <th>age</th>\n",
              "      <th>sex</th>\n",
              "      <th>cp</th>\n",
              "      <th>trtbps</th>\n",
              "      <th>chol</th>\n",
              "      <th>fbs</th>\n",
              "      <th>restecg</th>\n",
              "      <th>thalachh</th>\n",
              "      <th>exng</th>\n",
              "      <th>oldpeak</th>\n",
              "      <th>slp</th>\n",
              "      <th>caa</th>\n",
              "      <th>thall</th>\n",
              "      <th>output</th>\n",
              "    </tr>\n",
              "  </thead>\n",
              "  <tbody>\n",
              "    <tr>\n",
              "      <th>0</th>\n",
              "      <td>63</td>\n",
              "      <td>1</td>\n",
              "      <td>3</td>\n",
              "      <td>145</td>\n",
              "      <td>233</td>\n",
              "      <td>1</td>\n",
              "      <td>0</td>\n",
              "      <td>150</td>\n",
              "      <td>0</td>\n",
              "      <td>2.3</td>\n",
              "      <td>0</td>\n",
              "      <td>0</td>\n",
              "      <td>1</td>\n",
              "      <td>1</td>\n",
              "    </tr>\n",
              "    <tr>\n",
              "      <th>1</th>\n",
              "      <td>37</td>\n",
              "      <td>1</td>\n",
              "      <td>2</td>\n",
              "      <td>130</td>\n",
              "      <td>250</td>\n",
              "      <td>0</td>\n",
              "      <td>1</td>\n",
              "      <td>187</td>\n",
              "      <td>0</td>\n",
              "      <td>3.5</td>\n",
              "      <td>0</td>\n",
              "      <td>0</td>\n",
              "      <td>2</td>\n",
              "      <td>1</td>\n",
              "    </tr>\n",
              "    <tr>\n",
              "      <th>2</th>\n",
              "      <td>41</td>\n",
              "      <td>0</td>\n",
              "      <td>1</td>\n",
              "      <td>130</td>\n",
              "      <td>204</td>\n",
              "      <td>0</td>\n",
              "      <td>0</td>\n",
              "      <td>172</td>\n",
              "      <td>0</td>\n",
              "      <td>1.4</td>\n",
              "      <td>2</td>\n",
              "      <td>0</td>\n",
              "      <td>2</td>\n",
              "      <td>1</td>\n",
              "    </tr>\n",
              "    <tr>\n",
              "      <th>3</th>\n",
              "      <td>56</td>\n",
              "      <td>1</td>\n",
              "      <td>1</td>\n",
              "      <td>120</td>\n",
              "      <td>236</td>\n",
              "      <td>0</td>\n",
              "      <td>1</td>\n",
              "      <td>178</td>\n",
              "      <td>0</td>\n",
              "      <td>0.8</td>\n",
              "      <td>2</td>\n",
              "      <td>0</td>\n",
              "      <td>2</td>\n",
              "      <td>1</td>\n",
              "    </tr>\n",
              "    <tr>\n",
              "      <th>4</th>\n",
              "      <td>57</td>\n",
              "      <td>0</td>\n",
              "      <td>0</td>\n",
              "      <td>120</td>\n",
              "      <td>354</td>\n",
              "      <td>0</td>\n",
              "      <td>1</td>\n",
              "      <td>163</td>\n",
              "      <td>1</td>\n",
              "      <td>0.6</td>\n",
              "      <td>2</td>\n",
              "      <td>0</td>\n",
              "      <td>2</td>\n",
              "      <td>1</td>\n",
              "    </tr>\n",
              "    <tr>\n",
              "      <th>...</th>\n",
              "      <td>...</td>\n",
              "      <td>...</td>\n",
              "      <td>...</td>\n",
              "      <td>...</td>\n",
              "      <td>...</td>\n",
              "      <td>...</td>\n",
              "      <td>...</td>\n",
              "      <td>...</td>\n",
              "      <td>...</td>\n",
              "      <td>...</td>\n",
              "      <td>...</td>\n",
              "      <td>...</td>\n",
              "      <td>...</td>\n",
              "      <td>...</td>\n",
              "    </tr>\n",
              "    <tr>\n",
              "      <th>298</th>\n",
              "      <td>57</td>\n",
              "      <td>0</td>\n",
              "      <td>0</td>\n",
              "      <td>140</td>\n",
              "      <td>241</td>\n",
              "      <td>0</td>\n",
              "      <td>1</td>\n",
              "      <td>123</td>\n",
              "      <td>1</td>\n",
              "      <td>0.2</td>\n",
              "      <td>1</td>\n",
              "      <td>0</td>\n",
              "      <td>3</td>\n",
              "      <td>0</td>\n",
              "    </tr>\n",
              "    <tr>\n",
              "      <th>299</th>\n",
              "      <td>45</td>\n",
              "      <td>1</td>\n",
              "      <td>3</td>\n",
              "      <td>110</td>\n",
              "      <td>264</td>\n",
              "      <td>0</td>\n",
              "      <td>1</td>\n",
              "      <td>132</td>\n",
              "      <td>0</td>\n",
              "      <td>1.2</td>\n",
              "      <td>1</td>\n",
              "      <td>0</td>\n",
              "      <td>3</td>\n",
              "      <td>0</td>\n",
              "    </tr>\n",
              "    <tr>\n",
              "      <th>300</th>\n",
              "      <td>68</td>\n",
              "      <td>1</td>\n",
              "      <td>0</td>\n",
              "      <td>144</td>\n",
              "      <td>193</td>\n",
              "      <td>1</td>\n",
              "      <td>1</td>\n",
              "      <td>141</td>\n",
              "      <td>0</td>\n",
              "      <td>3.4</td>\n",
              "      <td>1</td>\n",
              "      <td>2</td>\n",
              "      <td>3</td>\n",
              "      <td>0</td>\n",
              "    </tr>\n",
              "    <tr>\n",
              "      <th>301</th>\n",
              "      <td>57</td>\n",
              "      <td>1</td>\n",
              "      <td>0</td>\n",
              "      <td>130</td>\n",
              "      <td>131</td>\n",
              "      <td>0</td>\n",
              "      <td>1</td>\n",
              "      <td>115</td>\n",
              "      <td>1</td>\n",
              "      <td>1.2</td>\n",
              "      <td>1</td>\n",
              "      <td>1</td>\n",
              "      <td>3</td>\n",
              "      <td>0</td>\n",
              "    </tr>\n",
              "    <tr>\n",
              "      <th>302</th>\n",
              "      <td>57</td>\n",
              "      <td>0</td>\n",
              "      <td>1</td>\n",
              "      <td>130</td>\n",
              "      <td>236</td>\n",
              "      <td>0</td>\n",
              "      <td>0</td>\n",
              "      <td>174</td>\n",
              "      <td>0</td>\n",
              "      <td>0.0</td>\n",
              "      <td>1</td>\n",
              "      <td>1</td>\n",
              "      <td>2</td>\n",
              "      <td>0</td>\n",
              "    </tr>\n",
              "  </tbody>\n",
              "</table>\n",
              "<p>303 rows × 14 columns</p>\n",
              "</div>"
            ],
            "text/plain": [
              "     age  sex  cp  trtbps  chol  fbs  ...  exng  oldpeak  slp  caa  thall  output\n",
              "0     63    1   3     145   233    1  ...     0      2.3    0    0      1       1\n",
              "1     37    1   2     130   250    0  ...     0      3.5    0    0      2       1\n",
              "2     41    0   1     130   204    0  ...     0      1.4    2    0      2       1\n",
              "3     56    1   1     120   236    0  ...     0      0.8    2    0      2       1\n",
              "4     57    0   0     120   354    0  ...     1      0.6    2    0      2       1\n",
              "..   ...  ...  ..     ...   ...  ...  ...   ...      ...  ...  ...    ...     ...\n",
              "298   57    0   0     140   241    0  ...     1      0.2    1    0      3       0\n",
              "299   45    1   3     110   264    0  ...     0      1.2    1    0      3       0\n",
              "300   68    1   0     144   193    1  ...     0      3.4    1    2      3       0\n",
              "301   57    1   0     130   131    0  ...     1      1.2    1    1      3       0\n",
              "302   57    0   1     130   236    0  ...     0      0.0    1    1      2       0\n",
              "\n",
              "[303 rows x 14 columns]"
            ]
          },
          "metadata": {},
          "execution_count": 5
        }
      ]
    },
    {
      "cell_type": "code",
      "metadata": {
        "colab": {
          "base_uri": "https://localhost:8080/",
          "height": 419
        },
        "id": "mWaPW6XMOjJo",
        "outputId": "fd5259c0-5f0a-46cc-b22d-f4d4549bbd13"
      },
      "source": [
        "o2_csv = pd.read_csv('/content/heartAttackStats/data/o2Saturation.csv', header=None)\n",
        "o2_df2 = pd.DataFrame(o2_csv)\n",
        "\n",
        "o2_df2"
      ],
      "execution_count": 6,
      "outputs": [
        {
          "output_type": "execute_result",
          "data": {
            "text/html": [
              "<div>\n",
              "<style scoped>\n",
              "    .dataframe tbody tr th:only-of-type {\n",
              "        vertical-align: middle;\n",
              "    }\n",
              "\n",
              "    .dataframe tbody tr th {\n",
              "        vertical-align: top;\n",
              "    }\n",
              "\n",
              "    .dataframe thead th {\n",
              "        text-align: right;\n",
              "    }\n",
              "</style>\n",
              "<table border=\"1\" class=\"dataframe\">\n",
              "  <thead>\n",
              "    <tr style=\"text-align: right;\">\n",
              "      <th></th>\n",
              "      <th>0</th>\n",
              "    </tr>\n",
              "  </thead>\n",
              "  <tbody>\n",
              "    <tr>\n",
              "      <th>0</th>\n",
              "      <td>98.6</td>\n",
              "    </tr>\n",
              "    <tr>\n",
              "      <th>1</th>\n",
              "      <td>98.6</td>\n",
              "    </tr>\n",
              "    <tr>\n",
              "      <th>2</th>\n",
              "      <td>98.6</td>\n",
              "    </tr>\n",
              "    <tr>\n",
              "      <th>3</th>\n",
              "      <td>98.6</td>\n",
              "    </tr>\n",
              "    <tr>\n",
              "      <th>4</th>\n",
              "      <td>98.1</td>\n",
              "    </tr>\n",
              "    <tr>\n",
              "      <th>...</th>\n",
              "      <td>...</td>\n",
              "    </tr>\n",
              "    <tr>\n",
              "      <th>3581</th>\n",
              "      <td>98.6</td>\n",
              "    </tr>\n",
              "    <tr>\n",
              "      <th>3582</th>\n",
              "      <td>98.6</td>\n",
              "    </tr>\n",
              "    <tr>\n",
              "      <th>3583</th>\n",
              "      <td>98.6</td>\n",
              "    </tr>\n",
              "    <tr>\n",
              "      <th>3584</th>\n",
              "      <td>98.6</td>\n",
              "    </tr>\n",
              "    <tr>\n",
              "      <th>3585</th>\n",
              "      <td>98.6</td>\n",
              "    </tr>\n",
              "  </tbody>\n",
              "</table>\n",
              "<p>3586 rows × 1 columns</p>\n",
              "</div>"
            ],
            "text/plain": [
              "         0\n",
              "0     98.6\n",
              "1     98.6\n",
              "2     98.6\n",
              "3     98.6\n",
              "4     98.1\n",
              "...    ...\n",
              "3581  98.6\n",
              "3582  98.6\n",
              "3583  98.6\n",
              "3584  98.6\n",
              "3585  98.6\n",
              "\n",
              "[3586 rows x 1 columns]"
            ]
          },
          "metadata": {},
          "execution_count": 6
        }
      ]
    },
    {
      "cell_type": "markdown",
      "metadata": {
        "id": "6i14upy3P27r"
      },
      "source": [
        "As you can see, these dataframes are the exact same as those created from the SQLite database"
      ]
    },
    {
      "cell_type": "markdown",
      "metadata": {
        "id": "h38eY2CWJhtR"
      },
      "source": [
        "# Next steps"
      ]
    },
    {
      "cell_type": "markdown",
      "metadata": {
        "id": "HRzHthRaNWlA"
      },
      "source": [
        "So now let's do some data visualization and preliminary data analysis. Also, here are what the column values mean:\n",
        "- `age`: Age of the patient \n",
        "- `sex`: Sex of the patient (0 = female, 1 = male) \n",
        "- `cp`: Chest pain type (0 = asymptomatic, 1 = typical angina, 2 = atypical angina, 3 = non-anginal pain)\n",
        "- `trtbps`: Resting blood pressure (in mm Hg) on admission to the hospital\n",
        "- `chol`: Serum cholestoral in mg/dl fetched via BMI sensor \n",
        "- `fbs`: Is fasting blood sugar > 120 mg/dl? (0 = no, 1 = yes) \n",
        "- `restecg`: Resting electrocardiographic results (0 = hypertrophy, 1 = normal, 2 = having ST-T wave abnormality)\n",
        "- `thalach`: Maximum heart rate achieved (bpm)\n",
        "- `exng`: Exercise induced angina (i.e. is there chest pain after exercise?) (0 = no, 1 = yes) \n",
        "- `oldpeak`: ST depression induced by exercise relative to rest \n",
        "- `slp`: The slope of the peak exercise ST segment (0 = downsloping, 1 = flat, 2 = upsloping) \n",
        "- `caa`: Number of major vessels coloured by fluoroscopy (0-3; 4 is null)\n",
        "- `thall`: 0 = null, 1 = fixed defect, 2 = normal, 3 = reversable defect\n",
        "- `output`: Chance of heart attack (0 = lower chance of heart attack, 1 = higher chance)\n"
      ]
    },
    {
      "cell_type": "markdown",
      "metadata": {
        "id": "fWIWooC8TNJi"
      },
      "source": [
        "##### First, I'll do some quick and dirty histograms with pandas to see the distrubutions of the various parameters"
      ]
    },
    {
      "cell_type": "code",
      "metadata": {
        "id": "AbWQl3OJHT_r",
        "colab": {
          "base_uri": "https://localhost:8080/",
          "height": 1000
        },
        "outputId": "ceff6728-6e3d-4e51-b3eb-59ac8cba9e53"
      },
      "source": [
        "  heart_df.hist(figsize=(20,20))"
      ],
      "execution_count": 10,
      "outputs": [
        {
          "output_type": "execute_result",
          "data": {
            "text/plain": [
              "array([[<matplotlib.axes._subplots.AxesSubplot object at 0x7f5ec4630490>,\n",
              "        <matplotlib.axes._subplots.AxesSubplot object at 0x7f5ec4549bd0>,\n",
              "        <matplotlib.axes._subplots.AxesSubplot object at 0x7f5ec4532650>,\n",
              "        <matplotlib.axes._subplots.AxesSubplot object at 0x7f5ec44dfbd0>],\n",
              "       [<matplotlib.axes._subplots.AxesSubplot object at 0x7f5ec44a0190>,\n",
              "        <matplotlib.axes._subplots.AxesSubplot object at 0x7f5ec4457710>,\n",
              "        <matplotlib.axes._subplots.AxesSubplot object at 0x7f5ec440bd10>,\n",
              "        <matplotlib.axes._subplots.AxesSubplot object at 0x7f5ec43ce210>],\n",
              "       [<matplotlib.axes._subplots.AxesSubplot object at 0x7f5ec43ce250>,\n",
              "        <matplotlib.axes._subplots.AxesSubplot object at 0x7f5ec44038d0>,\n",
              "        <matplotlib.axes._subplots.AxesSubplot object at 0x7f5ec437a310>,\n",
              "        <matplotlib.axes._subplots.AxesSubplot object at 0x7f5ec4330890>],\n",
              "       [<matplotlib.axes._subplots.AxesSubplot object at 0x7f5ec42e5e10>,\n",
              "        <matplotlib.axes._subplots.AxesSubplot object at 0x7f5ec42a83d0>,\n",
              "        <matplotlib.axes._subplots.AxesSubplot object at 0x7f5ec425d950>,\n",
              "        <matplotlib.axes._subplots.AxesSubplot object at 0x7f5ec4214ed0>]],\n",
              "      dtype=object)"
            ]
          },
          "metadata": {},
          "execution_count": 10
        },
        {
          "output_type": "display_data",
          "data": {
            "image/png": "[encoded data removed]",
            "text/plain": [
              "<Figure size 1440x1440 with 16 Axes>"
            ]
          },
          "metadata": {
            "needs_background": "light"
          }
        }
      ]
    },
    {
      "cell_type": "code",
      "metadata": {
        "id": "syXfCrOcLbE8"
      },
      "source": [
        ""
      ],
      "execution_count": 6,
      "outputs": []
    }
  ]
}